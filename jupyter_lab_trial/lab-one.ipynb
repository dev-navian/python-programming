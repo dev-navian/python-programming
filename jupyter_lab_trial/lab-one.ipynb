{
 "cells": [
  {
   "cell_type": "code",
   "execution_count": 5,
   "id": "908e5bff",
   "metadata": {},
   "outputs": [
    {
     "name": "stdout",
     "output_type": "stream",
     "text": [
      "Enter your favourite number: 4547\n",
      "The number 4547 is an odd number\n"
     ]
    }
   ],
   "source": [
    "user_num = int( input(\"Enter your favourite number: \") )\n",
    "\n",
    "if (user_num % 2 == 0):\n",
    "    print(\"The number\", user_num, \"is an even number\")\n",
    "else:\n",
    "    print(\"The number\", user_num, \"is an odd number\")"
   ]
  },
  {
   "cell_type": "code",
   "execution_count": 9,
   "id": "c796059b",
   "metadata": {},
   "outputs": [
    {
     "name": "stdout",
     "output_type": "stream",
     "text": [
      "my name\n",
      "100\n",
      "my name 100\n"
     ]
    }
   ],
   "source": [
    "name = \"my name\"\n",
    "age = 100\n",
    "personality = name + \" \" + str(age)\n",
    "\n",
    "print(name)\n",
    "print(age)\n",
    "print(personality)"
   ]
  }
 ],
 "metadata": {
  "kernelspec": {
   "display_name": "Python 3 (ipykernel)",
   "language": "python",
   "name": "python3"
  },
  "language_info": {
   "codemirror_mode": {
    "name": "ipython",
    "version": 3
   },
   "file_extension": ".py",
   "mimetype": "text/x-python",
   "name": "python",
   "nbconvert_exporter": "python",
   "pygments_lexer": "ipython3",
   "version": "3.8.12"
  }
 },
 "nbformat": 4,
 "nbformat_minor": 5
}
